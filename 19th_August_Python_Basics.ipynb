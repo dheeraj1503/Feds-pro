{
 "cells": [
  {
   "cell_type": "code",
   "execution_count": 2,
   "id": "d54af6fd-2032-4821-92d5-9bf4616fe579",
   "metadata": {},
   "outputs": [],
   "source": [
    "#1\n",
    "x = 100\n",
    "y = 50\n",
    "#now replacing the values of x & y in the next 3 lines\n",
    "x = x + y\n",
    "y = x - y\n",
    "x = x - y"
   ]
  },
  {
   "cell_type": "code",
   "execution_count": 3,
   "id": "96328968-3ba6-4775-add0-02c4c1e56f11",
   "metadata": {},
   "outputs": [
    {
     "data": {
      "text/plain": [
       "50"
      ]
     },
     "execution_count": 3,
     "metadata": {},
     "output_type": "execute_result"
    }
   ],
   "source": [
    "#answer of x after replacing\n",
    "x"
   ]
  },
  {
   "cell_type": "code",
   "execution_count": 4,
   "id": "f76d9e03-f6fb-4a02-b293-4bc4c5169685",
   "metadata": {},
   "outputs": [
    {
     "data": {
      "text/plain": [
       "100"
      ]
     },
     "execution_count": 4,
     "metadata": {},
     "output_type": "execute_result"
    }
   ],
   "source": [
    "#answer of y after replacing\n",
    "y"
   ]
  },
  {
   "cell_type": "code",
   "execution_count": 5,
   "id": "f177de7b-77bb-4aab-923f-81aa6d1b73ad",
   "metadata": {},
   "outputs": [
    {
     "name": "stdin",
     "output_type": "stream",
     "text": [
      " 40.0\n"
     ]
    }
   ],
   "source": [
    "#2\n",
    "#first taking the length as input\n",
    "length = float(input())"
   ]
  },
  {
   "cell_type": "code",
   "execution_count": 6,
   "id": "6e8d5e71-2f47-483b-9ceb-765547e226ae",
   "metadata": {},
   "outputs": [
    {
     "name": "stdin",
     "output_type": "stream",
     "text": [
      " 20.0\n"
     ]
    }
   ],
   "source": [
    "#now taking the width as input\n",
    "width = float(input())"
   ]
  },
  {
   "cell_type": "code",
   "execution_count": 7,
   "id": "162b247a-77e1-4835-a206-1a54c7126b22",
   "metadata": {},
   "outputs": [
    {
     "data": {
      "text/plain": [
       "400.0"
      ]
     },
     "execution_count": 7,
     "metadata": {},
     "output_type": "execute_result"
    }
   ],
   "source": [
    "#now calculating the area of triangle and displaying it\n",
    "area = 0.5*length*width\n",
    "area"
   ]
  },
  {
   "cell_type": "code",
   "execution_count": 8,
   "id": "9667718c-e1db-429a-807f-302ee13f229e",
   "metadata": {},
   "outputs": [
    {
     "name": "stdin",
     "output_type": "stream",
     "text": [
      " 101.2\n"
     ]
    }
   ],
   "source": [
    "#3\n",
    "#first taking the celcuis as input\n",
    "Celsius = float(input())"
   ]
  },
  {
   "cell_type": "code",
   "execution_count": 9,
   "id": "04a4f512-32da-4c2a-ba05-45285cd503b0",
   "metadata": {},
   "outputs": [
    {
     "data": {
      "text/plain": [
       "214.16"
      ]
     },
     "execution_count": 9,
     "metadata": {},
     "output_type": "execute_result"
    }
   ],
   "source": [
    "#now calculating the temperature in fahrenheit and displaying it\n",
    "Fahrenheit = Celsius*(9/5)+32\n",
    "Fahrenheit"
   ]
  },
  {
   "cell_type": "code",
   "execution_count": 10,
   "id": "d852f32d-e01f-4591-ae51-24f3a8e39323",
   "metadata": {},
   "outputs": [
    {
     "name": "stdin",
     "output_type": "stream",
     "text": [
      " physicswallah\n"
     ]
    }
   ],
   "source": [
    "#now question for string \n",
    "#1\n",
    "#first taking the string as input\n",
    "string1  = input()"
   ]
  },
  {
   "cell_type": "code",
   "execution_count": 11,
   "id": "074e53cb-319e-461b-b742-8a512824db41",
   "metadata": {},
   "outputs": [
    {
     "name": "stdout",
     "output_type": "stream",
     "text": [
      "13\n"
     ]
    }
   ],
   "source": [
    "#now using the len funtion to find the lenght\n",
    "print(len(string1))"
   ]
  },
  {
   "cell_type": "code",
   "execution_count": 20,
   "id": "1c1c5ebb-39be-4cf8-8774-ad05f0b18add",
   "metadata": {},
   "outputs": [
    {
     "name": "stdout",
     "output_type": "stream",
     "text": [
      "3\n"
     ]
    }
   ],
   "source": [
    "#2\n",
    "string2 = \"physicswallah\"\n",
    "#for finding the occurance of a,e,i,o,u we'll first iterate the check with if condition\n",
    "counter = 0\n",
    "for i in string2:\n",
    "    if(i=='a' or i=='e' or i=='i' or i=='o' or i=='u'):\n",
    "        counter += 1;\n",
    "print(counter)"
   ]
  },
  {
   "cell_type": "code",
   "execution_count": 21,
   "id": "6c4e8708-4952-45cf-8a13-4851123b4456",
   "metadata": {},
   "outputs": [
    {
     "data": {
      "text/plain": [
       "'hallawscisyhp'"
      ]
     },
     "execution_count": 21,
     "metadata": {},
     "output_type": "execute_result"
    }
   ],
   "source": [
    "#3\n",
    "string3 = \"physicswallah\"\n",
    "string3[::-1]"
   ]
  },
  {
   "cell_type": "code",
   "execution_count": 25,
   "id": "a7694a16-09a3-4597-bb8d-26b8f5523a0f",
   "metadata": {},
   "outputs": [
    {
     "name": "stdout",
     "output_type": "stream",
     "text": [
      "true\n"
     ]
    }
   ],
   "source": [
    "#4\n",
    "string4 = \"naman\"\n",
    "#we've used the indexing to easily match the string , first started from start the started from the end and compared it in if block to check pallindrome\n",
    "if(string4[0:5] == string4[::-1]):\n",
    "    print(\"true\")\n",
    "else:\n",
    "    print(\"false\")"
   ]
  },
  {
   "cell_type": "code",
   "execution_count": 27,
   "id": "8e6a5829-67b6-449d-a3b7-71e4bd4613c9",
   "metadata": {},
   "outputs": [
    {
     "name": "stdout",
     "output_type": "stream",
     "text": [
      "hellothisispw\n"
     ]
    }
   ],
   "source": [
    "#5\n",
    "string5 = \"hello this is pw\"\n",
    "#we've used the replace funtion to remove the spaces from the string\n",
    "string5 = string5.replace(\" \",\"\")\n",
    "print(string5)"
   ]
  },
  {
   "cell_type": "code",
   "execution_count": null,
   "id": "8606a30a-02c3-4322-885f-fefdbf95771d",
   "metadata": {},
   "outputs": [],
   "source": []
  }
 ],
 "metadata": {
  "kernelspec": {
   "display_name": "Python 3 (ipykernel)",
   "language": "python",
   "name": "python3"
  },
  "language_info": {
   "codemirror_mode": {
    "name": "ipython",
    "version": 3
   },
   "file_extension": ".py",
   "mimetype": "text/x-python",
   "name": "python",
   "nbconvert_exporter": "python",
   "pygments_lexer": "ipython3",
   "version": "3.10.8"
  }
 },
 "nbformat": 4,
 "nbformat_minor": 5
}
